
{
  "cells": [
    {
      "cell_type": "markdown",
      "metadata": {
        "id": "view-in-github",
        "colab_type": "text"
      },
      "source": [
        "<a href=\"https://colab.research.google.com/github/nakigeplayer/nekobot-pyrogram/blob/main/Neko.ipynb\" target=\"_parent\"><img src=\"https://colab.research.google.com/assets/colab-badge.svg\" alt=\"Open In Colab\"/></a>"
      ]
    },
    {
      "cell_type": "code",
      "execution_count": null,
      "metadata": {
        "id": "YUJPg7QSbX2x"
      },
      "outputs": [],
      "source": [
        "!git clone https://github.com/nakigeplayer/nekobot-pyrogram/\n",
        "import os\n",
        "# Definir variables de entorno\n",
        "os.environ['TOKEN'] = ''\n",
        "os.environ['ADMINS'] = ''\n",
        "os.environ['USERS'] = '0'\n",
        "os.environ['API_ID'] = ''\n",
        "os.environ['API_HASH'] = ''\n",
        "os.environ['DISMAIL'] = ''\n",
        "os.environ['DISPASS'] = ''\n",
        "os.environ['MAIL_MB'] = ''\n",
        "os.environ['MAIL_DELAY'] = ''\n",
        "os.environ['ADMIN_CMD'] = 'all'\n",
        "!pip install -r nekobot-pyrogram/requirements.txt\n",
        "!python3 nekobot-pyrogram/neko.py"
      ]
    },
    {
      "cell_type": "code",
      "execution_count": null,
      "metadata": {
        "id": "7VFGYOOp-sWB"
      },
      "outputs": [],
      "source": [
        "!rm -r \"/content/nekobot-pyrogram\""
      ]
    }
  ],
  "metadata": {
    "colab": {
      "provenance": [],
      "authorship_tag": "ABX9TyOU7tpvl3ReUxGB32xMLH63",
      "include_colab_link": true
    },
    "kernelspec": {
      "display_name": "Python 3",
      "name": "python3"
    },
    "language_info": {
      "name": "python"
    }
  },
  "nbformat": 4,
  "nbformat_minor": 0
}
